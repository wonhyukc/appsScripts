{
 "cells": [
  {
   "cell_type": "code",
   "execution_count": null,
   "metadata": {},
   "outputs": [],
   "source": [
    "from __future__ import print_function\n",
    "\n",
    "import google.auth\n",
    "from googleapiclient.discovery import build\n",
    "from googleapiclient.errors import HttpError"
   ]
  },
  {
   "cell_type": "code",
   "execution_count": null,
   "metadata": {},
   "outputs": [],
   "source": [
    "\n",
    "\n",
    "\n",
    "def move_file_to_folder(file_id, folder_id):\n",
    "    \"\"\"Move specified file to the specified folder.\n",
    "    Args:\n",
    "        file_id: Id of the file to move.\n",
    "        folder_id: Id of the folder\n",
    "    Print: An object containing the new parent folder and other meta data\n",
    "    Returns : Parent Ids for the file\n",
    "\n",
    "    Load pre-authorized user credentials from the environment.\n",
    "    TODO(developer) - See https://developers.google.com/identity\n",
    "    for guides on implementing OAuth2 for the application.\n",
    "    \"\"\"\n",
    "    creds, _ = google.auth.default()\n",
    "\n",
    "    try:\n",
    "        # call drive api client\n",
    "        service = build('drive', 'v3', credentials=creds)\n",
    "\n",
    "        # pylint: disable=maybe-no-member\n",
    "        # Retrieve the existing parents to remove\n",
    "        file = service.files().get(fileId=file_id, fields='parents').execute()\n",
    "        previous_parents = \",\".join(file.get('parents'))\n",
    "        # Move the file to the new folder\n",
    "        file = service.files().update(fileId=file_id, addParents=folder_id,\n",
    "                                      removeParents=previous_parents,\n",
    "                                      fields='id, parents').execute()\n",
    "        return file.get('parents')\n",
    "\n",
    "    except HttpError as error:\n",
    "        print(F'An error occurred: {error}')\n",
    "        return None\n",
    "\n",
    "\n",
    "if __name__ == '__main__':\n",
    "    move_file_to_folder(file_id='1KuPmvGq8yoYgbfW74OENMCB5H0n_2Jm9',\n",
    "                        folder_id='1jvTFoyBhUspwDncOTB25kb9k0Fl0EqeN')"
   ]
  },
  {
   "cell_type": "code",
   "execution_count": null,
   "metadata": {},
   "outputs": [],
   "source": []
  }
 ],
 "metadata": {
  "language_info": {
   "name": "python"
  },
  "orig_nbformat": 4
 },
 "nbformat": 4,
 "nbformat_minor": 2
}
